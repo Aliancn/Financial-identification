{
 "cells": [
  {
   "cell_type": "code",
   "execution_count": 2,
   "metadata": {},
   "outputs": [],
   "source": [
    "import cv2\n",
    "from matplotlib import category\n",
    "import pandas as pd\n",
    "import re\n",
    "from sklearn.model_selection import train_test_split\n",
    "from sklearn.ensemble import RandomForestClassifier"
   ]
  },
  {
   "cell_type": "code",
   "execution_count": 3,
   "metadata": {},
   "outputs": [],
   "source": [
    "# 1. 加载发票分类标准\n",
    "def load_classification_standard(file_path):\n",
    "    \"\"\"\n",
    "    加载发票分类表格，并将其转化为字典或数据框以供后续分类使用。\n",
    "    \"\"\"\n",
    "    classification_df = pd.read_excel(file_path)\n",
    "    # 修改列名\n",
    "    classification_df.columns = [\"category_id\", \"category\", \"items\"]\n",
    "    # 根据实际表格结构选择加载方式\n",
    "    return classification_df\n",
    "\n",
    "\n",
    "classification_file_path = \"./whu/classification_standard.xlsx\"\n",
    "classification_standard = load_classification_standard(\n",
    "        classification_file_path)\n"
   ]
  },
  {
   "cell_type": "code",
   "execution_count": 4,
   "metadata": {},
   "outputs": [
    {
     "data": {
      "text/html": [
       "<div>\n",
       "<style scoped>\n",
       "    .dataframe tbody tr th:only-of-type {\n",
       "        vertical-align: middle;\n",
       "    }\n",
       "\n",
       "    .dataframe tbody tr th {\n",
       "        vertical-align: top;\n",
       "    }\n",
       "\n",
       "    .dataframe thead th {\n",
       "        text-align: right;\n",
       "    }\n",
       "</style>\n",
       "<table border=\"1\" class=\"dataframe\">\n",
       "  <thead>\n",
       "    <tr style=\"text-align: right;\">\n",
       "      <th></th>\n",
       "      <th>category_id</th>\n",
       "      <th>category</th>\n",
       "      <th>items</th>\n",
       "    </tr>\n",
       "  </thead>\n",
       "  <tbody>\n",
       "    <tr>\n",
       "      <th>0</th>\n",
       "      <td>3020101</td>\n",
       "      <td>商品和服务支出_办公费_办公用品</td>\n",
       "      <td>计算器、纸类、本册、便签、财会用品、画具画材、签字笔、钢笔、笔芯、开关、电料、抽纸、卷纸、手...</td>\n",
       "    </tr>\n",
       "    <tr>\n",
       "      <th>1</th>\n",
       "      <td>3020102</td>\n",
       "      <td>商品和服务支出_其他商品和服务支出_书报杂志</td>\n",
       "      <td>各类报刊杂志</td>\n",
       "    </tr>\n",
       "    <tr>\n",
       "      <th>2</th>\n",
       "      <td>3020190</td>\n",
       "      <td>商品和服务支出_办公费_其他</td>\n",
       "      <td>洗洁精、油污清洁剂、除湿干燥剂、洁厕剂、家电清洁用品、消毒液、地板清洁剂、一次性清洁用品、拖...</td>\n",
       "    </tr>\n",
       "    <tr>\n",
       "      <th>3</th>\n",
       "      <td>3021302</td>\n",
       "      <td>商品和服务支出_维修(护)费_设备维修费</td>\n",
       "      <td>CPU、显卡、内存、主板、散热器、光驱、机箱、显示器、电源声卡、扩展卡、装机配件、SSD固态...</td>\n",
       "    </tr>\n",
       "    <tr>\n",
       "      <th>4</th>\n",
       "      <td>3021305</td>\n",
       "      <td>商品和服务支出_维修(护)费_网络运行与维护费</td>\n",
       "      <td>数据库、操作系统、防病毒、办公软件等</td>\n",
       "    </tr>\n",
       "  </tbody>\n",
       "</table>\n",
       "</div>"
      ],
      "text/plain": [
       "   category_id                 category  \\\n",
       "0      3020101         商品和服务支出_办公费_办公用品   \n",
       "1      3020102   商品和服务支出_其他商品和服务支出_书报杂志   \n",
       "2      3020190           商品和服务支出_办公费_其他   \n",
       "3      3021302     商品和服务支出_维修(护)费_设备维修费   \n",
       "4      3021305  商品和服务支出_维修(护)费_网络运行与维护费   \n",
       "\n",
       "                                               items  \n",
       "0  计算器、纸类、本册、便签、财会用品、画具画材、签字笔、钢笔、笔芯、开关、电料、抽纸、卷纸、手...  \n",
       "1                                             各类报刊杂志  \n",
       "2  洗洁精、油污清洁剂、除湿干燥剂、洁厕剂、家电清洁用品、消毒液、地板清洁剂、一次性清洁用品、拖...  \n",
       "3  CPU、显卡、内存、主板、散热器、光驱、机箱、显示器、电源声卡、扩展卡、装机配件、SSD固态...  \n",
       "4                                 数据库、操作系统、防病毒、办公软件等  "
      ]
     },
     "execution_count": 4,
     "metadata": {},
     "output_type": "execute_result"
    }
   ],
   "source": [
    "classification_standard.head()"
   ]
  },
  {
   "cell_type": "code",
   "execution_count": 5,
   "metadata": {},
   "outputs": [
    {
     "name": "stdout",
     "output_type": "stream",
     "text": [
      "相关对应商品: 计算器、纸类、本册、便签、财会用品、画具画材、签字笔、钢笔、笔芯、开关、电料、抽纸、卷纸、手帕纸、湿巾、垃圾袋、垃圾桶、水壶、电话机、手电筒、电子钟表、电子灭蚊器、收音机、万用遥控器、对讲机、塑料杯、保温杯、杯具等 -> 科目名称: 商品和服务支出_办公费_办公用品\n",
      "相关对应商品: 各类报刊杂志 -> 科目名称: 商品和服务支出_其他商品和服务支出_书报杂志\n",
      "相关对应商品: 洗洁精、油污清洁剂、除湿干燥剂、洁厕剂、家电清洁用品、消毒液、地板清洁剂、一次性清洁用品、拖把、扫把、脸盆、水桶、抹布、百洁布、手套、鞋套、清洁刷具、其它清洁工具、清洁用具配件、饮用水等 -> 科目名称: 商品和服务支出_办公费_其他\n",
      "相关对应商品: CPU、显卡、内存、主板、散热器、光驱、机箱、显示器、电源声卡、扩展卡、装机配件、SSD固态硬盘、移动硬盘、UPS电源、线缆、电脑工具、电脑清洁、插座、键盘、鼠标、摄像头、U盘、硬盘盒、手写板、鼠标垫、网络仪表仪器、投影配件、会议音频、硒鼓、墨粉、墨盒、墨水、色带、CD-R碟片、DVDR碟片、可擦写碟片、光盘包、光盘袋、光盘箱、光盘笔、光盘帖、迷你音响、LED屏配件、耳机、耳麦、麦克风、专业音频、苹果配件、无线音箱、存储卡、读卡器、相机包、电池、充电器、路由器、网络机柜、无线路由、无线网卡、网络存储、网络配件、防火墙等 -> 科目名称: 商品和服务支出_维修(护)费_设备维修费\n",
      "相关对应商品: 数据库、操作系统、防病毒、办公软件等 -> 科目名称: 商品和服务支出_维修(护)费_网络运行与维护费\n",
      "相关对应商品: 移液器、天平衡器、混合搅拌、清洗消毒、泵类仪器、干燥箱系列、培养箱系列、试验箱系列、振荡器、电炉系列、水浴水槽、分子生物学、萃取提纯、电泳成像、微生物学、粉碎合成、物理光学、光谱分析、色谱分析、PH计、酸度计、电导电阻、水质检测、多参数检测、环境监测、超纯水系统、净化安全、安全防护、急救清洗、石油仪器、食品检测、药物检测、煤炭纺织、特殊仪器、配件耗材、防噪音耳塞等 -> 科目名称: 商品和服务支出_专用材料费_实验室用品\n",
      "相关对应商品: 羽毛球类、网球类、篮球类、乒乓类、足球类、桌球类、棒球类、铅球类、跳马、起跑器、跳高类、铁饼、标枪类、排球装备、其他体育用品 -> 科目名称: 商品和服务支出_专用材料费_消耗性体育用品\n",
      "相关对应商品: 防护服、防护手套、护目镜、防护头套等 -> 科目名称: 商品和服务支出_专用材料费_专用服装费\n",
      "相关对应商品: 84消毒液、酒精等 -> 科目名称: 商品和服务支出_专用材料费_其他材料\n",
      "相关对应商品: 保险柜、办公桌椅、课桌椅、沙发、茶几、文件柜、文件架、工作台、讲台、教学用具、电脑桌、托盘、椅书桌、衣帽架、书柜、书架边桌、特定行业家具等 -> 科目名称: 商品和服务支出_其他商品和服务支出_小额家具\n",
      "相关对应商品: 低温设备、摇床、显微镜、笔记本、台式机、一体机、服务器、工作站、硬盘刻录机、组装电脑、打印机多功能、一体机、传真设备、复合机、扫描设备、投影机、碎纸机、白板、封装机、视频会议、针式打印机、智慧屏、空调、音响、移动空调、取暖电器、加湿器、空气净化器、饮水机、电风扇、净水器、冷风扇、除湿机、LED大屏、消防安全设备、音箱、音响、VR眼镜、交换机、DNS设备、5G设备、密码机、安全服务器、防病毒设备、入侵检测、审计设备、漏洞扫描、信创设备等 -> 科目名称: 商品和服务支出_其他商品和服务支出_小额设备（科研项目）\n",
      "相关对应商品: nan -> 科目名称: 商品和服务支出_其他商品和服务支出_小额设备（非科研项目）\n",
      "相关对应商品: 历史、心理学、政治、军事、国学、古籍、哲学、宗教、社会科学、法律、文化、建筑、管理、经济、计算机与互联网、科普、工业技术、电子、通信、医学、科学与自然、农林工程、其他技术、航空航天、教材、艺术、职业教育、英语学习、外语学习、字典、词典、参考书、图书赠品、小说、文学、青春文学、传记、动漫艺术、摄影、舞蹈等各类书籍 -> 科目名称: 商品和服务支出_其他商品和服务支出_零星图书\n",
      "\n"
     ]
    }
   ],
   "source": [
    "def build_classification_context(classification_df):\n",
    "    \"\"\"\n",
    "    构建分类的上下文信息，将表格转换为大模型的输入上下文。\n",
    "    \"\"\"\n",
    "    context = \"\"\n",
    "    for index, row in classification_df.iterrows():\n",
    "        # 假设表格中包含 \"商品名称\" 和 \"分类\" 列\n",
    "        context += f\"相关对应商品: {row['items']} -> 科目名称: {row['category']}\\n\"\n",
    "\n",
    "    print(context)\n",
    "    return context\n",
    "\n",
    "# 构建分类上下文\n",
    "classification_context = build_classification_context(classification_standard)\n",
    "\n"
   ]
  },
  {
   "cell_type": "code",
   "execution_count": 7,
   "metadata": {},
   "outputs": [
    {
     "name": "stdout",
     "output_type": "stream",
     "text": [
      "根据发票上的商品名称，将其分类到相应的科目名称中。\n",
      "相关对应商品: 计算器、纸类、本册、便签、财会用品、画具画材、签字笔、钢笔、笔芯、开关、电料、抽纸、卷纸、手帕纸、湿巾、垃圾袋、垃圾桶、水壶、电话机、手电筒、电子钟表、电子灭蚊器、收音机、万用遥控器、对讲机、塑料杯、保温杯、杯具等 -> 科目名称: 商品和服务支出_办公费_办公用品\n",
      "相关对应商品: 各类报刊杂志 -> 科目名称: 商品和服务支出_其他商品和服务支出_书报杂志\n",
      "相关对应商品: 洗洁精、油污清洁剂、除湿干燥剂、洁厕剂、家电清洁用品、消毒液、地板清洁剂、一次性清洁用品、拖把、扫把、脸盆、水桶、抹布、百洁布、手套、鞋套、清洁刷具、其它清洁工具、清洁用具配件、饮用水等 -> 科目名称: 商品和服务支出_办公费_其他\n",
      "相关对应商品: CPU、显卡、内存、主板、散热器、光驱、机箱、显示器、电源声卡、扩展卡、装机配件、SSD固态硬盘、移动硬盘、UPS电源、线缆、电脑工具、电脑清洁、插座、键盘、鼠标、摄像头、U盘、硬盘盒、手写板、鼠标垫、网络仪表仪器、投影配件、会议音频、硒鼓、墨粉、墨盒、墨水、色带、CD-R碟片、DVDR碟片、可擦写碟片、光盘包、光盘袋、光盘箱、光盘笔、光盘帖、迷你音响、LED屏配件、耳机、耳麦、麦克风、专业音频、苹果配件、无线音箱、存储卡、读卡器、相机包、电池、充电器、路由器、网络机柜、无线路由、无线网卡、网络存储、网络配件、防火墙等 -> 科目名称: 商品和服务支出_维修(护)费_设备维修费\n",
      "相关对应商品: 数据库、操作系统、防病毒、办公软件等 -> 科目名称: 商品和服务支出_维修(护)费_网络运行与维护费\n",
      "相关对应商品: 移液器、天平衡器、混合搅拌、清洗消毒、泵类仪器、干燥箱系列、培养箱系列、试验箱系列、振荡器、电炉系列、水浴水槽、分子生物学、萃取提纯、电泳成像、微生物学、粉碎合成、物理光学、光谱分析、色谱分析、PH计、酸度计、电导电阻、水质检测、多参数检测、环境监测、超纯水系统、净化安全、安全防护、急救清洗、石油仪器、食品检测、药物检测、煤炭纺织、特殊仪器、配件耗材、防噪音耳塞等 -> 科目名称: 商品和服务支出_专用材料费_实验室用品\n",
      "相关对应商品: 羽毛球类、网球类、篮球类、乒乓类、足球类、桌球类、棒球类、铅球类、跳马、起跑器、跳高类、铁饼、标枪类、排球装备、其他体育用品 -> 科目名称: 商品和服务支出_专用材料费_消耗性体育用品\n",
      "相关对应商品: 防护服、防护手套、护目镜、防护头套等 -> 科目名称: 商品和服务支出_专用材料费_专用服装费\n",
      "相关对应商品: 84消毒液、酒精等 -> 科目名称: 商品和服务支出_专用材料费_其他材料\n",
      "相关对应商品: 保险柜、办公桌椅、课桌椅、沙发、茶几、文件柜、文件架、工作台、讲台、教学用具、电脑桌、托盘、椅书桌、衣帽架、书柜、书架边桌、特定行业家具等 -> 科目名称: 商品和服务支出_其他商品和服务支出_小额家具\n",
      "相关对应商品: 低温设备、摇床、显微镜、笔记本、台式机、一体机、服务器、工作站、硬盘刻录机、组装电脑、打印机多功能、一体机、传真设备、复合机、扫描设备、投影机、碎纸机、白板、封装机、视频会议、针式打印机、智慧屏、空调、音响、移动空调、取暖电器、加湿器、空气净化器、饮水机、电风扇、净水器、冷风扇、除湿机、LED大屏、消防安全设备、音箱、音响、VR眼镜、交换机、DNS设备、5G设备、密码机、安全服务器、防病毒设备、入侵检测、审计设备、漏洞扫描、信创设备等 -> 科目名称: 商品和服务支出_其他商品和服务支出_小额设备（科研项目）\n",
      "相关对应商品: nan -> 科目名称: 商品和服务支出_其他商品和服务支出_小额设备（非科研项目）\n",
      "相关对应商品: 历史、心理学、政治、军事、国学、古籍、哲学、宗教、社会科学、法律、文化、建筑、管理、经济、计算机与互联网、科普、工业技术、电子、通信、医学、科学与自然、农林工程、其他技术、航空航天、教材、艺术、职业教育、英语学习、外语学习、字典、词典、参考书、图书赠品、小说、文学、青春文学、传记、动漫艺术、摄影、舞蹈等各类书籍 -> 科目名称: 商品和服务支出_其他商品和服务支出_零星图书\n",
      "\n"
     ]
    }
   ],
   "source": [
    "prompt = \"根据发票上的商品名称，将其分类到相应的科目名称中。\\n\"\n",
    "prompt += classification_context\n",
    "print(prompt)"
   ]
  },
  {
   "cell_type": "code",
   "execution_count": null,
   "metadata": {},
   "outputs": [
    {
     "name": "stdout",
     "output_type": "stream",
     "text": [
      "CompletionMessage(content='根据您提供的分类信息，\"电脑\"这一商品名称可以归类到以下两个科目名称中，具体取决于电脑的用途和采购目的：\\n\\n1. **商品和服务支出_维修(护)费_设备维修费**：\\n   - 如果电脑是作为办公设备的一部分，用于日常办公或特定项目的设备维护和升级，可以归类到这个科目。\\n\\n2. **商品和服务支出_其他商品和服务支出_小额设备（科研项目）** 或 **商品和服务支出_其他商品和服务支出_小额设备（非科研项目）**：\\n   - 如果电脑是作为新的设备采购，用于科研项目，则归类到“小额设备（科研项目）”。\\n   - 如果电脑是用于非科研项目的日常办公或其他用途，则归类到“小额设备（非科研项目）”。\\n\\n具体归类需要根据实际使用情况和采购目的来确定。', role='assistant', tool_calls=None)\n"
     ]
    }
   ],
   "source": [
    "from zhipuai import ZhipuAI\n",
    "api_key = \"\"  # 填写自己的APIKey\n",
    "client = ZhipuAI(api_key=api_key) # 填写您自己的APIKey\n",
    "response = client.chat.completions.create(\n",
    "    model=\"glm-4-plus\",  # 填写需要调用的模型编码\n",
    "    messages=[\n",
    "        {\"role\": \"system\", \"content\": prompt},\n",
    "        {\"role\": \"user\", \"content\": \"商品名称: 电脑\"},\n",
    "    ],\n",
    ")\n",
    "print(response.choices[0].message)"
   ]
  },
  {
   "cell_type": "code",
   "execution_count": 1,
   "metadata": {},
   "outputs": [],
   "source": [
    "import json\n",
    "import re\n",
    "\n",
    "def extract_json_from_response(response_text):\n",
    "    \"\"\"\n",
    "    从大模型的回答中提取出 JSON 格式的数据。\n",
    "\n",
    "    参数:\n",
    "    response_text (str): 大模型的回答文本。\n",
    "\n",
    "    返回:\n",
    "    dict: 提取出的 JSON 数据，解析为 Python 字典。\n",
    "    \"\"\"\n",
    "    # 使用正则表达式提取 JSON 部分\n",
    "    json_pattern = re.compile(r'\\{.*?\\}', re.DOTALL)\n",
    "    match = json_pattern.search(response_text)\n",
    "    \n",
    "    if match:\n",
    "        json_str = match.group(0)\n",
    "        try:\n",
    "            # 解析 JSON 字符串为 Python 字典\n",
    "            json_data = json.loads(json_str)\n",
    "            return json_data\n",
    "        except json.JSONDecodeError as e:\n",
    "            print(f\"JSON 解析错误: {e}\")\n",
    "            return None\n",
    "    else:\n",
    "        print(\"未找到 JSON 格式的数据\")\n",
    "        return None\n",
    "\n",
    "# 示例使用\n",
    "response_text = \"\"\"\n",
    "根据您提供的商品详细信息“*电子元件*八通道ADC芯片AD9257S”，我们可以将其分类到以下科目名称中：\n",
    "\n",
    "**科目名称: 商品和服务支出_维修(护)费_设备维修费**\n",
    "\n",
    "理由：\n",
    "- **电子元件**：这类商品通常用于电子设备的维修或升级。\n",
    "- **八通道ADC芯片AD9257S**：这是一种特定的电子元件，用于数据采集和转换，常见于各种电子设备和系统中。\n",
    "\n",
    "因此，将其归类到“设备维修费”科目是合理的，因为这类元件的采购通常与设备的维修、升级或维护相关。\n",
    "\n",
    "如果该元件是用于特定的科研项目或设备的研发，也可以考虑归类到“商品和服务支出_其他商品和服务支出_小额设备（科研项目）”科目，但基于提供的信息，归类到“设备维修费”更为直接和符合常规分类逻辑。\n",
    "\n",
    "```json\n",
    "{\n",
    "  \"商品详细信息\": \"*电子元件*八通道ADC芯片AD9257S\",\n",
    "  \"科目名称\": \"商品和服务支出_维修(护)费_设备维修费\",\n",
    "  \"理由\": [\n",
    "    \"电子元件：这类商品通常用于电子设备的维修或升级。\",\n",
    "    \"八通道ADC芯片AD9257S：这是一种特定的电子元件，用于数据采集和转换，常见于各种电子设备和系统中。\",\n",
    "    \"因此，将其归类到“设备维修费”科目是合理的，因为这类元件的采购通常与设备的维修、升级或维护相关。\",\n",
    "    \"如果该元件是用于特定的科研项目或设备的研发，也可以考虑归类到“商品和服务支出_其他商品和服务支出_小额设备（科研项目）”科目，但基于提供的信息，归类到“设备维修费”更为直接和符合常规分类逻辑。\"\n",
    "  ]\n",
    "}\n",
    "\"\"\""
   ]
  },
  {
   "cell_type": "code",
   "execution_count": 2,
   "metadata": {},
   "outputs": [],
   "source": [
    "json_pattern = re.compile(r'\\{.*?\\}', re.DOTALL)\n",
    "match = json_pattern.search(response_text)"
   ]
  },
  {
   "cell_type": "code",
   "execution_count": 9,
   "metadata": {},
   "outputs": [],
   "source": [
    "json_str = match.group(0)\n",
    "json_data = json.loads(json_str)"
   ]
  },
  {
   "cell_type": "code",
   "execution_count": 10,
   "metadata": {},
   "outputs": [
    {
     "data": {
      "text/plain": [
       "{'商品详细信息': '*电子元件*八通道ADC芯片AD9257S',\n",
       " '科目名称': '商品和服务支出_维修(护)费_设备维修费',\n",
       " '理由': ['电子元件：这类商品通常用于电子设备的维修或升级。',\n",
       "  '八通道ADC芯片AD9257S：这是一种特定的电子元件，用于数据采集和转换，常见于各种电子设备和系统中。',\n",
       "  '因此，将其归类到“设备维修费”科目是合理的，因为这类元件的采购通常与设备的维修、升级或维护相关。',\n",
       "  '如果该元件是用于特定的科研项目或设备的研发，也可以考虑归类到“商品和服务支出_其他商品和服务支出_小额设备（科研项目）”科目，但基于提供的信息，归类到“设备维修费”更为直接和符合常规分类逻辑。']}"
      ]
     },
     "execution_count": 10,
     "metadata": {},
     "output_type": "execute_result"
    }
   ],
   "source": [
    "json_data"
   ]
  },
  {
   "cell_type": "code",
   "execution_count": 16,
   "metadata": {},
   "outputs": [
    {
     "name": "stdout",
     "output_type": "stream",
     "text": [
      "3.jpg\n"
     ]
    },
    {
     "data": {
      "text/plain": [
       "'./tmp/temp_3.jpg'"
      ]
     },
     "execution_count": 16,
     "metadata": {},
     "output_type": "execute_result"
    }
   ],
   "source": [
    "from fileinput import filename\n",
    "import shutil\n",
    "import os\n",
    "\n",
    "def handle_upload(file):\n",
    "    file_name = os.path.basename(file)\n",
    "    print(file_name)\n",
    "    file_path = f\"./tmp/temp_{file_name}\"\n",
    "    file = open(file, \"rb\")\n",
    "    with open(file_path, \"wb\") as buffer:\n",
    "        shutil.copyfileobj(file, buffer)\n",
    "    return file_path\n",
    "\n",
    "handle_upload(\"./whu/test/3.jpg\")"
   ]
  },
  {
   "cell_type": "code",
   "execution_count": 17,
   "metadata": {},
   "outputs": [],
   "source": [
    "file = open(\"/private/var/folders/tw/5jgn7f8j74zgq_93zn_8f2n40000gn/T/gradio/15f1dfdcf4c9ae7fd8a84953c3c376784a0caf7c2570c0d87cde09430d40300c/ZW_00_2024_PZ_B1ACD36F91274FBA98B293A5475AF429_1BODY_00003.jpg\", \"rb\")"
   ]
  },
  {
   "cell_type": "code",
   "execution_count": 20,
   "metadata": {},
   "outputs": [
    {
     "data": {
      "text/plain": [
       "'/Users/aliancn/code/python/Financial-identification/tmp/3.jpg'"
      ]
     },
     "execution_count": 20,
     "metadata": {},
     "output_type": "execute_result"
    }
   ],
   "source": [
    "file = \"/private/var/folders/tw/5jgn7f8j74zgq_93zn_8f2n40000gn/T/gradio/15f1dfdcf4c9ae7fd8a84953c3c376784a0caf7c2570c0d87cde09430d40300c/3.jpg\"\n",
    "file_path = \"/Users/aliancn/code/python/Financial-identification/tmp/3.jpg\"\n",
    "shutil.copy(file, file_path)"
   ]
  },
  {
   "cell_type": "code",
   "execution_count": 7,
   "metadata": {},
   "outputs": [
    {
     "name": "stdout",
     "output_type": "stream",
     "text": [
      "['未找到匹配类别']\n"
     ]
    }
   ],
   "source": [
    "# # coding=gb2312\n",
    "\n",
    "import pandas as pd\n",
    "import re\n",
    "import os\n",
    "\n",
    "\n",
    "# Extract relevant columns for creating regex patterns\n",
    "def load_classification_data():\n",
    "    file_path = os.path.join(os.getcwd(), './whu/classification_standard.xlsx') \n",
    "    excel_data = pd.ExcelFile(file_path)\n",
    "    sheet_1 = excel_data.parse('商品对照')\n",
    "    return sheet_1[['科目名称', '相关对应商品（达不到资产验收条件的商品，且不满足设备附件验收条件）']]\n",
    "\n",
    "\n",
    "categories = load_classification_data()\n",
    "\n",
    "\n",
    "# Example text to match against the regex patterns\n",
    "example_text = \"维修费\"\n",
    "\n",
    "\n",
    "def regex_match(categories, example_text):\n",
    "    # Generate regex patterns based on the '相关对应商品' field for each category\n",
    "    regex_patterns = {}\n",
    "    for index, row in categories.iterrows():\n",
    "        category = row['科目名称']\n",
    "        items = row['相关对应商品（达不到资产验收条件的商品，且不满足设备附件验收条件）']\n",
    "        # Split items by common delimiters (Chinese comma, comma, and other separators)\n",
    "        item_keywords = re.split(r'[，、,]', str(items))\n",
    "        # Create a regex pattern by joining keywords with '|'\n",
    "        pattern = '|'.join([re.escape(keyword.strip())\n",
    "                           for keyword in item_keywords if keyword.strip()])\n",
    "        regex_patterns[category] = pattern\n",
    "\n",
    "    # Check which category regex matches the example text\n",
    "    matching_categories = [category for category, pattern in regex_patterns.items(\n",
    "    ) if re.search(pattern, example_text)]\n",
    "\n",
    "    # If no category matched, return a default message\n",
    "    return matching_categories if matching_categories else [\"未找到匹配类别\"]\n",
    "\n",
    "\n",
    "# Display the matching categories\n",
    "print(regex_match(categories, example_text))\n"
   ]
  }
 ],
 "metadata": {
  "kernelspec": {
   "display_name": ".venv",
   "language": "python",
   "name": "python3"
  },
  "language_info": {
   "codemirror_mode": {
    "name": "ipython",
    "version": 3
   },
   "file_extension": ".py",
   "mimetype": "text/x-python",
   "name": "python",
   "nbconvert_exporter": "python",
   "pygments_lexer": "ipython3",
   "version": "3.10.11"
  }
 },
 "nbformat": 4,
 "nbformat_minor": 2
}
