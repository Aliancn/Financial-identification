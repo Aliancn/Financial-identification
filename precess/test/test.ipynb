{
 "cells": [
  {
   "cell_type": "code",
   "execution_count": 27,
   "metadata": {},
   "outputs": [
    {
     "name": "stdout",
     "output_type": "stream",
     "text": [
      "[2024/12/05 17:02:24] ppocr DEBUG: Namespace(help='==SUPPRESS==', use_gpu=False, use_xpu=False, use_npu=False, use_mlu=False, ir_optim=True, use_tensorrt=False, min_subgraph_size=15, precision='fp32', gpu_mem=500, gpu_id=0, image_dir=None, page_num=0, det_algorithm='DB', det_model_dir='/Users/aliancn/.paddleocr/whl/det/ch/ch_PP-OCRv4_det_infer', det_limit_side_len=960, det_limit_type='max', det_box_type='quad', det_db_thresh=0.3, det_db_box_thresh=0.6, det_db_unclip_ratio=1.5, max_batch_size=10, use_dilation=False, det_db_score_mode='fast', det_east_score_thresh=0.8, det_east_cover_thresh=0.1, det_east_nms_thresh=0.2, det_sast_score_thresh=0.5, det_sast_nms_thresh=0.2, det_pse_thresh=0, det_pse_box_thresh=0.85, det_pse_min_area=16, det_pse_scale=1, scales=[8, 16, 32], alpha=1.0, beta=1.0, fourier_degree=5, rec_algorithm='SVTR_LCNet', rec_model_dir='/Users/aliancn/.paddleocr/whl/rec/ch/ch_PP-OCRv4_rec_infer', rec_image_inverse=True, rec_image_shape='3, 48, 320', rec_batch_num=6, max_text_length=25, rec_char_dict_path='/Users/aliancn/code/python/.paddle/lib/python3.10/site-packages/paddleocr/ppocr/utils/ppocr_keys_v1.txt', use_space_char=True, vis_font_path='./doc/fonts/simfang.ttf', drop_score=0.5, e2e_algorithm='PGNet', e2e_model_dir=None, e2e_limit_side_len=768, e2e_limit_type='max', e2e_pgnet_score_thresh=0.5, e2e_char_dict_path='./ppocr/utils/ic15_dict.txt', e2e_pgnet_valid_set='totaltext', e2e_pgnet_mode='fast', use_angle_cls=True, cls_model_dir='/Users/aliancn/.paddleocr/whl/cls/ch_ppocr_mobile_v2.0_cls_infer', cls_image_shape='3, 48, 192', label_list=['0', '180'], cls_batch_num=6, cls_thresh=0.9, enable_mkldnn=False, cpu_threads=10, use_pdserving=False, warmup=False, sr_model_dir=None, sr_image_shape='3, 32, 128', sr_batch_num=1, draw_img_save_dir='./inference_results', save_crop_res=False, crop_res_save_dir='./output', use_mp=False, total_process_num=1, process_id=0, benchmark=False, save_log_path='./log_output/', show_log=True, use_onnx=False, return_word_box=False, output='./output', table_max_len=488, table_algorithm='TableAttn', table_model_dir=None, merge_no_span_structure=True, table_char_dict_path=None, formula_algorithm='LaTeXOCR', formula_model_dir=None, formula_char_dict_path=None, formula_batch_num=1, layout_model_dir=None, layout_dict_path=None, layout_score_threshold=0.5, layout_nms_threshold=0.5, kie_algorithm='LayoutXLM', ser_model_dir=None, re_model_dir=None, use_visual_backbone=True, ser_dict_path='../train_data/XFUND/class_list_xfun.txt', ocr_order_method=None, mode='structure', image_orientation=False, layout=True, table=True, formula=False, ocr=True, recovery=False, recovery_to_markdown=False, use_pdf2docx_api=False, invert=False, binarize=False, alphacolor=(255, 255, 255), lang='ch', det=True, rec=True, type='ocr', savefile=False, ocr_version='PP-OCRv4', structure_version='PP-StructureV2')\n"
     ]
    }
   ],
   "source": [
    "import cv2\n",
    "import numpy as np\n",
    "\n",
    "from paddleocr import PaddleOCR, draw_ocr\n",
    "\n",
    "# 初始化OCR模型\n",
    "ocr = PaddleOCR(use_angle_cls=True, lang='ch')\n",
    "\n",
    "def crop_invoice_paddle(image_path, output_path):\n",
    "    # 读取图片\n",
    "    img = cv2.imread(image_path)\n",
    "    width = img.shape[1]\n",
    "    height = img.shape[0]\n",
    "    \n",
    "    # 进行OCR检测\n",
    "    result = ocr.ocr(img, cls=True)\n",
    "\n",
    "    # 获取文本区域的所有边界框\n",
    "    boxes = [line[0] for line in result[0]]\n",
    "\n",
    "    # 计算最小的外接矩形\n",
    "    x_min = int(min(box[0][0] for box in boxes))\n",
    "    y_min = int(min(box[0][1] for box in boxes))\n",
    "    x_max = int(max(box[2][0] for box in boxes))\n",
    "    y_max = int(max(box[2][1] for box in boxes))\n",
    "\n",
    "    # 裁剪图片\n",
    "    cropped_img = img[max(y_min-20, 0):min(y_max+20, height), max(x_min-20,0 ):min(x_max+20 , width)]\n",
    "\n",
    "    # 保存裁剪后的图片\n",
    "    cv2.imwrite(output_path, cropped_img)\n",
    "    print(f\"裁剪后的图片已保存到 {output_path}\")\n"
   ]
  },
  {
   "cell_type": "code",
   "execution_count": 30,
   "metadata": {},
   "outputs": [
    {
     "name": "stdout",
     "output_type": "stream",
     "text": [
      "[2024/12/05 17:03:58] ppocr DEBUG: dt_boxes num : 43, elapsed : 0.2832331657409668\n",
      "[2024/12/05 17:03:58] ppocr DEBUG: cls num  : 43, elapsed : 0.15288901329040527\n",
      "[2024/12/05 17:04:04] ppocr DEBUG: rec_res num  : 43, elapsed : 5.213464975357056\n",
      "裁剪后的图片已保存到 cropped_image.png\n"
     ]
    }
   ],
   "source": [
    "crop_invoice_paddle(\"image.png\", \"cropped_image.png\")"
   ]
  },
  {
   "cell_type": "code",
   "execution_count": 22,
   "metadata": {},
   "outputs": [],
   "source": [
    "import cv2\n",
    "import numpy as np\n",
    "def crop_invoice_robust(image_path, output_path):\n",
    "    # 读取图像\n",
    "    image = cv2.imread(image_path)\n",
    "    if image is None:\n",
    "        print(\"无法读取图片，请检查路径\")\n",
    "        return\n",
    "\n",
    "    # 转为灰度图\n",
    "    gray = cv2.cvtColor(image, cv2.COLOR_BGR2GRAY)\n",
    "\n",
    "    # 中值滤波，去除小噪点\n",
    "    smoothed = cv2.medianBlur(gray, 9)\n",
    "\n",
    "    # 自适应阈值分割，将背景与内容分离\n",
    "    binary = cv2.adaptiveThreshold(\n",
    "        smoothed, 255, cv2.ADAPTIVE_THRESH_GAUSSIAN_C, cv2.THRESH_BINARY_INV, 15, 10\n",
    "    )\n",
    "\n",
    "    # 查找非零像素点（发票内容区域）\n",
    "    coords = cv2.findNonZero(binary)\n",
    "\n",
    "    if coords is not None:\n",
    "        # 获取包含非零像素点的最小矩形框\n",
    "        x, y, w, h = cv2.boundingRect(coords)\n",
    "\n",
    "        # 扩展边界框，避免裁剪太紧\n",
    "        margin = 5\n",
    "        x = max(x - margin, 0)\n",
    "        y = max(y - margin, 0)\n",
    "        w = min(w + 2 * margin, image.shape[1] - x)\n",
    "        h = min(h + 2 * margin, image.shape[0] - y)\n",
    "\n",
    "        # 裁剪图像\n",
    "        cropped_image = image[y:y+h, x:x+w]\n",
    "\n",
    "        # 保存裁剪后的图像\n",
    "        cv2.imwrite(output_path, cropped_image)\n",
    "        print(f\"裁剪后的图片已保存至 {output_path}\")\n",
    "    else:\n",
    "        print(\"未检测到有效的发票区域，请检查图片内容\")"
   ]
  },
  {
   "cell_type": "code",
   "execution_count": 23,
   "metadata": {},
   "outputs": [
    {
     "name": "stdout",
     "output_type": "stream",
     "text": [
      "裁剪后的图片已保存至 cropped_image994.jpg\n"
     ]
    }
   ],
   "source": [
    "crop_invoice_robust(\"image994.jpg\", \"cropped_image994.jpg\")"
   ]
  }
 ],
 "metadata": {
  "kernelspec": {
   "display_name": ".paddle",
   "language": "python",
   "name": "python3"
  },
  "language_info": {
   "codemirror_mode": {
    "name": "ipython",
    "version": 3
   },
   "file_extension": ".py",
   "mimetype": "text/x-python",
   "name": "python",
   "nbconvert_exporter": "python",
   "pygments_lexer": "ipython3",
   "version": "3.10.11"
  }
 },
 "nbformat": 4,
 "nbformat_minor": 2
}
